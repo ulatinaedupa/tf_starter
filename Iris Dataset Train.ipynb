{
 "cells": [
  {
   "cell_type": "code",
   "execution_count": 1,
   "id": "8aedf7d4-7600-4865-b6bb-2ba233c94bc1",
   "metadata": {},
   "outputs": [
    {
     "name": "stdout",
     "output_type": "stream",
     "text": [
      "WARNING:tensorflow:From C:\\Users\\Denys\\anaconda3\\envs\\iris\\lib\\site-packages\\keras\\src\\losses.py:2976: The name tf.losses.sparse_softmax_cross_entropy is deprecated. Please use tf.compat.v1.losses.sparse_softmax_cross_entropy instead.\n",
      "\n"
     ]
    }
   ],
   "source": [
    "# common libraries\n",
    "import pandas as pd\n",
    "import numpy as np\n",
    "from sklearn.model_selection import train_test_split\n",
    "import tensorflow as tf\n",
    "# for plotting\n",
    "import matplotlib.pyplot as plt\n",
    "import seaborn as sns\n",
    "# for model evaluation\n",
    "from sklearn.metrics import classification_report\n",
    "from sklearn.metrics import confusion_matrix"
   ]
  },
  {
   "cell_type": "raw",
   "id": "7a16d372-7704-47fa-b263-f1143bd74469",
   "metadata": {},
   "source": [
    "Attribute Information:\n",
    "   1. sepal length in cm\n",
    "   2. sepal width in cm\n",
    "   3. petal length in cm\n",
    "   4. petal width in cm\n",
    "   5. class: \n",
    "      -- Iris Setosa\n",
    "      -- Iris Versicolour\n",
    "      -- Iris Virginica"
   ]
  },
  {
   "cell_type": "code",
   "execution_count": 2,
   "id": "71bc5d8b-f0d7-4f97-bcd6-67ee5818b892",
   "metadata": {},
   "outputs": [
    {
     "data": {
      "text/html": [
       "<div>\n",
       "<style scoped>\n",
       "    .dataframe tbody tr th:only-of-type {\n",
       "        vertical-align: middle;\n",
       "    }\n",
       "\n",
       "    .dataframe tbody tr th {\n",
       "        vertical-align: top;\n",
       "    }\n",
       "\n",
       "    .dataframe thead th {\n",
       "        text-align: right;\n",
       "    }\n",
       "</style>\n",
       "<table border=\"1\" class=\"dataframe\">\n",
       "  <thead>\n",
       "    <tr style=\"text-align: right;\">\n",
       "      <th></th>\n",
       "      <th>0</th>\n",
       "      <th>1</th>\n",
       "      <th>2</th>\n",
       "      <th>3</th>\n",
       "      <th>4</th>\n",
       "    </tr>\n",
       "  </thead>\n",
       "  <tbody>\n",
       "    <tr>\n",
       "      <th>0</th>\n",
       "      <td>5.1</td>\n",
       "      <td>3.5</td>\n",
       "      <td>1.4</td>\n",
       "      <td>0.2</td>\n",
       "      <td>Iris-setosa</td>\n",
       "    </tr>\n",
       "    <tr>\n",
       "      <th>1</th>\n",
       "      <td>4.9</td>\n",
       "      <td>3.0</td>\n",
       "      <td>1.4</td>\n",
       "      <td>0.2</td>\n",
       "      <td>Iris-setosa</td>\n",
       "    </tr>\n",
       "    <tr>\n",
       "      <th>2</th>\n",
       "      <td>4.7</td>\n",
       "      <td>3.2</td>\n",
       "      <td>1.3</td>\n",
       "      <td>0.2</td>\n",
       "      <td>Iris-setosa</td>\n",
       "    </tr>\n",
       "    <tr>\n",
       "      <th>3</th>\n",
       "      <td>4.6</td>\n",
       "      <td>3.1</td>\n",
       "      <td>1.5</td>\n",
       "      <td>0.2</td>\n",
       "      <td>Iris-setosa</td>\n",
       "    </tr>\n",
       "    <tr>\n",
       "      <th>4</th>\n",
       "      <td>5.0</td>\n",
       "      <td>3.6</td>\n",
       "      <td>1.4</td>\n",
       "      <td>0.2</td>\n",
       "      <td>Iris-setosa</td>\n",
       "    </tr>\n",
       "  </tbody>\n",
       "</table>\n",
       "</div>"
      ],
      "text/plain": [
       "     0    1    2    3            4\n",
       "0  5.1  3.5  1.4  0.2  Iris-setosa\n",
       "1  4.9  3.0  1.4  0.2  Iris-setosa\n",
       "2  4.7  3.2  1.3  0.2  Iris-setosa\n",
       "3  4.6  3.1  1.5  0.2  Iris-setosa\n",
       "4  5.0  3.6  1.4  0.2  Iris-setosa"
      ]
     },
     "execution_count": 2,
     "metadata": {},
     "output_type": "execute_result"
    }
   ],
   "source": [
    "# read the dataset\n",
    "df = pd.read_csv('iris.data', header=None)\n",
    "df.head()"
   ]
  },
  {
   "cell_type": "code",
   "execution_count": 3,
   "id": "7095df36-3409-4fb9-829b-9a24680eca71",
   "metadata": {},
   "outputs": [
    {
     "data": {
      "text/plain": [
       "array(['Iris-setosa', 'Iris-versicolor', 'Iris-virginica'], dtype=object)"
      ]
     },
     "execution_count": 3,
     "metadata": {},
     "output_type": "execute_result"
    }
   ],
   "source": [
    "# get the unique values\n",
    "target_values = df[4].unique()\n",
    "target_values"
   ]
  },
  {
   "cell_type": "code",
   "execution_count": 4,
   "id": "21fd53ea-07fc-4394-9ab0-ad1e4e4c0f8b",
   "metadata": {},
   "outputs": [
    {
     "data": {
      "text/plain": [
       "{'Iris-setosa': 0, 'Iris-versicolor': 1, 'Iris-virginica': 2}"
      ]
     },
     "execution_count": 4,
     "metadata": {},
     "output_type": "execute_result"
    }
   ],
   "source": [
    "mappings = dict(zip(target_values, range(3)))\n",
    "mappings "
   ]
  },
  {
   "cell_type": "code",
   "execution_count": 5,
   "id": "d71de96d-fa51-4bf4-b1a1-8c3dd823e3db",
   "metadata": {},
   "outputs": [],
   "source": [
    "# map the values (Neural Nets needs numbers not strings)\n",
    "df[4] = df[4].map(mappings)"
   ]
  },
  {
   "cell_type": "code",
   "execution_count": 6,
   "id": "5c680095-2c53-4d1b-b90d-1027a45b5b95",
   "metadata": {},
   "outputs": [
    {
     "data": {
      "text/html": [
       "<div>\n",
       "<style scoped>\n",
       "    .dataframe tbody tr th:only-of-type {\n",
       "        vertical-align: middle;\n",
       "    }\n",
       "\n",
       "    .dataframe tbody tr th {\n",
       "        vertical-align: top;\n",
       "    }\n",
       "\n",
       "    .dataframe thead th {\n",
       "        text-align: right;\n",
       "    }\n",
       "</style>\n",
       "<table border=\"1\" class=\"dataframe\">\n",
       "  <thead>\n",
       "    <tr style=\"text-align: right;\">\n",
       "      <th></th>\n",
       "      <th>0</th>\n",
       "      <th>1</th>\n",
       "      <th>2</th>\n",
       "      <th>3</th>\n",
       "    </tr>\n",
       "  </thead>\n",
       "  <tbody>\n",
       "    <tr>\n",
       "      <th>0</th>\n",
       "      <td>5.1</td>\n",
       "      <td>3.5</td>\n",
       "      <td>1.4</td>\n",
       "      <td>0.2</td>\n",
       "    </tr>\n",
       "    <tr>\n",
       "      <th>1</th>\n",
       "      <td>4.9</td>\n",
       "      <td>3.0</td>\n",
       "      <td>1.4</td>\n",
       "      <td>0.2</td>\n",
       "    </tr>\n",
       "    <tr>\n",
       "      <th>2</th>\n",
       "      <td>4.7</td>\n",
       "      <td>3.2</td>\n",
       "      <td>1.3</td>\n",
       "      <td>0.2</td>\n",
       "    </tr>\n",
       "    <tr>\n",
       "      <th>3</th>\n",
       "      <td>4.6</td>\n",
       "      <td>3.1</td>\n",
       "      <td>1.5</td>\n",
       "      <td>0.2</td>\n",
       "    </tr>\n",
       "    <tr>\n",
       "      <th>4</th>\n",
       "      <td>5.0</td>\n",
       "      <td>3.6</td>\n",
       "      <td>1.4</td>\n",
       "      <td>0.2</td>\n",
       "    </tr>\n",
       "  </tbody>\n",
       "</table>\n",
       "</div>"
      ],
      "text/plain": [
       "     0    1    2    3\n",
       "0  5.1  3.5  1.4  0.2\n",
       "1  4.9  3.0  1.4  0.2\n",
       "2  4.7  3.2  1.3  0.2\n",
       "3  4.6  3.1  1.5  0.2\n",
       "4  5.0  3.6  1.4  0.2"
      ]
     },
     "execution_count": 6,
     "metadata": {},
     "output_type": "execute_result"
    }
   ],
   "source": [
    "df.loc[:, :3].head()"
   ]
  },
  {
   "cell_type": "code",
   "execution_count": 7,
   "id": "83ce4495-abfb-4b60-883f-64b78efd12b5",
   "metadata": {},
   "outputs": [],
   "source": [
    "# transform dataset to features and targets (80% train, 20% test)\n",
    "features = df.loc[:, :3]\n",
    "target = df[4]\n",
    "X_train, X_test, y_train, y_test = train_test_split(features, target, test_size=0.2, stratify=target) "
   ]
  },
  {
   "cell_type": "code",
   "execution_count": 8,
   "id": "1153ffc2-6c99-481c-b5cd-e0a89537758f",
   "metadata": {},
   "outputs": [
    {
     "name": "stdout",
     "output_type": "stream",
     "text": [
      "WARNING:tensorflow:From C:\\Users\\Denys\\anaconda3\\envs\\iris\\lib\\site-packages\\keras\\src\\backend.py:873: The name tf.get_default_graph is deprecated. Please use tf.compat.v1.get_default_graph instead.\n",
      "\n"
     ]
    }
   ],
   "source": [
    "# create the model\n",
    "model = tf.keras.Sequential([\n",
    "    tf.keras.layers.Normalization(axis=-1), # normalize (fit dat from 0-1 values)\n",
    "    tf.keras.layers.Dense(16, activation='relu'),\n",
    "    tf.keras.layers.Dense(3, activation='softmax')\n",
    "  ])\n",
    "\n",
    "model.compile(optimizer=tf.keras.optimizers.RMSprop(learning_rate=0.01), \n",
    "              loss=tf.keras.losses.sparse_categorical_crossentropy, \n",
    "              metrics=['accuracy'])"
   ]
  },
  {
   "cell_type": "code",
   "execution_count": 9,
   "id": "84896ee9-a735-49f0-bf51-47b551b57de1",
   "metadata": {},
   "outputs": [
    {
     "name": "stdout",
     "output_type": "stream",
     "text": [
      "Epoch 1/20\n",
      "WARNING:tensorflow:From C:\\Users\\Denys\\anaconda3\\envs\\iris\\lib\\site-packages\\keras\\src\\utils\\tf_utils.py:492: The name tf.ragged.RaggedTensorValue is deprecated. Please use tf.compat.v1.ragged.RaggedTensorValue instead.\n",
      "\n",
      "WARNING:tensorflow:From C:\\Users\\Denys\\anaconda3\\envs\\iris\\lib\\site-packages\\keras\\src\\engine\\base_layer_utils.py:384: The name tf.executing_eagerly_outside_functions is deprecated. Please use tf.compat.v1.executing_eagerly_outside_functions instead.\n",
      "\n",
      "15/15 [==============================] - 1s 3ms/step - loss: 1.1015 - accuracy: 0.4667\n",
      "Epoch 2/20\n",
      "15/15 [==============================] - 0s 3ms/step - loss: 0.6762 - accuracy: 0.7583\n",
      "Epoch 3/20\n",
      "15/15 [==============================] - 0s 3ms/step - loss: 0.5627 - accuracy: 0.8000\n",
      "Epoch 4/20\n",
      "15/15 [==============================] - 0s 2ms/step - loss: 0.4518 - accuracy: 0.8250\n",
      "Epoch 5/20\n",
      "15/15 [==============================] - 0s 3ms/step - loss: 0.4186 - accuracy: 0.7667\n",
      "Epoch 6/20\n",
      "15/15 [==============================] - 0s 2ms/step - loss: 0.4244 - accuracy: 0.8000\n",
      "Epoch 7/20\n",
      "15/15 [==============================] - 0s 2ms/step - loss: 0.3710 - accuracy: 0.8083\n",
      "Epoch 8/20\n",
      "15/15 [==============================] - 0s 2ms/step - loss: 0.3677 - accuracy: 0.8250\n",
      "Epoch 9/20\n",
      "15/15 [==============================] - 0s 2ms/step - loss: 0.3393 - accuracy: 0.8667\n",
      "Epoch 10/20\n",
      "15/15 [==============================] - 0s 3ms/step - loss: 0.3082 - accuracy: 0.8583\n",
      "Epoch 11/20\n",
      "15/15 [==============================] - 0s 3ms/step - loss: 0.3156 - accuracy: 0.8667\n",
      "Epoch 12/20\n",
      "15/15 [==============================] - 0s 2ms/step - loss: 0.2875 - accuracy: 0.8750\n",
      "Epoch 13/20\n",
      "15/15 [==============================] - 0s 2ms/step - loss: 0.2517 - accuracy: 0.9417\n",
      "Epoch 14/20\n",
      "15/15 [==============================] - 0s 3ms/step - loss: 0.2572 - accuracy: 0.9000\n",
      "Epoch 15/20\n",
      "15/15 [==============================] - 0s 2ms/step - loss: 0.2341 - accuracy: 0.9000\n",
      "Epoch 16/20\n",
      "15/15 [==============================] - 0s 2ms/step - loss: 0.2051 - accuracy: 0.9250\n",
      "Epoch 17/20\n",
      "15/15 [==============================] - 0s 3ms/step - loss: 0.1926 - accuracy: 0.9333\n",
      "Epoch 18/20\n",
      "15/15 [==============================] - 0s 2ms/step - loss: 0.1735 - accuracy: 0.9583\n",
      "Epoch 19/20\n",
      "15/15 [==============================] - 0s 3ms/step - loss: 0.1835 - accuracy: 0.9333\n",
      "Epoch 20/20\n",
      "15/15 [==============================] - 0s 3ms/step - loss: 0.1882 - accuracy: 0.9417\n"
     ]
    }
   ],
   "source": [
    "# fit the model\n",
    "history = model.fit(X_train, y_train, epochs=20, batch_size=8)"
   ]
  },
  {
   "cell_type": "code",
   "execution_count": 10,
   "id": "834a30d2-2b4c-481f-8879-2adc89b7220e",
   "metadata": {},
   "outputs": [
    {
     "data": {
      "text/plain": [
       "{'loss': [1.1014788150787354,\n",
       "  0.6762135624885559,\n",
       "  0.5626814961433411,\n",
       "  0.4517975449562073,\n",
       "  0.41860681772232056,\n",
       "  0.42442601919174194,\n",
       "  0.3710135519504547,\n",
       "  0.36774685978889465,\n",
       "  0.3393229842185974,\n",
       "  0.3082130253314972,\n",
       "  0.31560957431793213,\n",
       "  0.2874811887741089,\n",
       "  0.2517092525959015,\n",
       "  0.2571708858013153,\n",
       "  0.23410794138908386,\n",
       "  0.20508025586605072,\n",
       "  0.19255892932415009,\n",
       "  0.1734524369239807,\n",
       "  0.18348261713981628,\n",
       "  0.1882285326719284],\n",
       " 'accuracy': [0.46666666865348816,\n",
       "  0.7583333253860474,\n",
       "  0.800000011920929,\n",
       "  0.824999988079071,\n",
       "  0.7666666507720947,\n",
       "  0.800000011920929,\n",
       "  0.8083333373069763,\n",
       "  0.824999988079071,\n",
       "  0.8666666746139526,\n",
       "  0.8583333492279053,\n",
       "  0.8666666746139526,\n",
       "  0.875,\n",
       "  0.9416666626930237,\n",
       "  0.8999999761581421,\n",
       "  0.8999999761581421,\n",
       "  0.925000011920929,\n",
       "  0.9333333373069763,\n",
       "  0.9583333134651184,\n",
       "  0.9333333373069763,\n",
       "  0.9416666626930237]}"
      ]
     },
     "execution_count": 10,
     "metadata": {},
     "output_type": "execute_result"
    }
   ],
   "source": [
    "history.history"
   ]
  },
  {
   "cell_type": "code",
   "execution_count": 11,
   "id": "0ddf8441-6d44-4967-b189-41d5e3ec0f43",
   "metadata": {},
   "outputs": [
    {
     "data": {
      "image/png": "[encoded data removed]",
      "text/plain": [
       "<Figure size 640x480 with 1 Axes>"
      ]
     },
     "metadata": {},
     "output_type": "display_data"
    }
   ],
   "source": [
    "# plot to see the loss (decrease) and accuracy (increase)\n",
    "pd.DataFrame(history.history).plot(kind='line')\n",
    "plt.title('Loss vs Accuracy');"
   ]
  },
  {
   "cell_type": "code",
   "execution_count": 12,
   "id": "ee82a229-a08c-42f4-89d4-22ff4d417dcc",
   "metadata": {},
   "outputs": [
    {
     "name": "stdout",
     "output_type": "stream",
     "text": [
      "1/1 [==============================] - 0s 126ms/step\n"
     ]
    },
    {
     "data": {
      "text/plain": [
       "array([[9.98431385e-01, 1.56839832e-03, 1.80284729e-07],\n",
       "       [1.08897857e-05, 8.24413300e-01, 1.75575852e-01],\n",
       "       [9.97423053e-01, 2.57642544e-03, 5.58559861e-07],\n",
       "       [6.23058183e-09, 3.41073930e-01, 6.58926010e-01],\n",
       "       [1.31766171e-08, 1.27567351e-01, 8.72432709e-01],\n",
       "       [2.24363335e-04, 9.44582880e-01, 5.51927574e-02],\n",
       "       [1.50178280e-03, 9.35320258e-01, 6.31779432e-02],\n",
       "       [1.88460705e-04, 9.15437639e-01, 8.43739361e-02],\n",
       "       [9.97558832e-01, 2.44050799e-03, 5.48706680e-07],\n",
       "       [9.98942196e-01, 1.05780375e-03, 5.86619961e-08],\n",
       "       [2.21542855e-08, 2.26671845e-01, 7.73328185e-01],\n",
       "       [2.20674352e-04, 9.27960277e-01, 7.18190670e-02],\n",
       "       [5.31002763e-04, 9.38405335e-01, 6.10636733e-02],\n",
       "       [9.98361766e-01, 1.63794227e-03, 1.80711410e-07],\n",
       "       [1.55151865e-05, 7.12509871e-01, 2.87474573e-01],\n",
       "       [1.41032214e-10, 5.31587601e-02, 9.46841240e-01],\n",
       "       [1.28652838e-10, 1.07298642e-01, 8.92701387e-01],\n",
       "       [2.70114342e-05, 7.69195259e-01, 2.30777800e-01],\n",
       "       [2.81198083e-07, 3.74756664e-01, 6.25243008e-01],\n",
       "       [6.05856962e-11, 3.29383872e-02, 9.67061639e-01],\n",
       "       [9.99272048e-01, 7.27906823e-04, 2.21884733e-08],\n",
       "       [5.16326804e-09, 1.06254324e-01, 8.93745720e-01],\n",
       "       [9.98308778e-01, 1.69098948e-03, 2.02248117e-07],\n",
       "       [9.98052478e-01, 1.94735080e-03, 2.85352087e-07],\n",
       "       [5.08812082e-04, 8.97077084e-01, 1.02414094e-01],\n",
       "       [9.97064054e-01, 2.93527381e-03, 6.98377448e-07],\n",
       "       [9.94511604e-01, 5.48416981e-03, 4.22673929e-06],\n",
       "       [1.15528045e-10, 5.41249812e-02, 9.45874989e-01],\n",
       "       [4.07213374e-09, 2.00967133e-01, 7.99032867e-01],\n",
       "       [1.35114242e-04, 9.22648728e-01, 7.72160813e-02]], dtype=float32)"
      ]
     },
     "execution_count": 12,
     "metadata": {},
     "output_type": "execute_result"
    }
   ],
   "source": [
    "y_pred = model.predict(X_test)\n",
    "y_pred"
   ]
  },
  {
   "cell_type": "code",
   "execution_count": 13,
   "id": "5df154af-66e7-4522-ac7f-e489141cd70e",
   "metadata": {},
   "outputs": [
    {
     "data": {
      "text/plain": [
       "array([0, 1, 0, 2, 2, 1, 1, 1, 0, 0, 2, 1, 1, 0, 1, 2, 2, 1, 2, 2, 0, 2,\n",
       "       0, 0, 1, 0, 0, 2, 2, 1], dtype=int64)"
      ]
     },
     "execution_count": 13,
     "metadata": {},
     "output_type": "execute_result"
    }
   ],
   "source": [
    "#{'Iris-setosa': 0, 'Iris-versicolor': 1, 'Iris-virginica': 2}\n",
    "predictions = np.argmax(y_pred, axis=1)\n",
    "predictions"
   ]
  },
  {
   "cell_type": "code",
   "execution_count": 14,
   "id": "879d3f11-03b0-484f-af1a-21464bffc6bf",
   "metadata": {},
   "outputs": [
    {
     "data": {
      "text/plain": [
       "array([[0, 1, 0, 2, 2, 1, 1, 1, 0, 0, 2, 1, 1, 0, 1, 2, 2, 1, 2, 2, 0, 2,\n",
       "        0, 0, 1, 0, 0, 2, 2, 1]], dtype=int64)"
      ]
     },
     "execution_count": 14,
     "metadata": {},
     "output_type": "execute_result"
    }
   ],
   "source": [
    "np.reshape(y_test, (1, -1))"
   ]
  },
  {
   "cell_type": "code",
   "execution_count": 15,
   "id": "fbf79513-3890-4673-8376-bf4da64969f6",
   "metadata": {},
   "outputs": [
    {
     "data": {
      "text/plain": [
       "array([[10,  0,  0],\n",
       "       [ 0, 10,  0],\n",
       "       [ 0,  0, 10]], dtype=int64)"
      ]
     },
     "execution_count": 15,
     "metadata": {},
     "output_type": "execute_result"
    }
   ],
   "source": [
    "cm = confusion_matrix(y_test, np.argmax(y_pred, axis=1))\n",
    "cm"
   ]
  },
  {
   "cell_type": "code",
   "execution_count": 16,
   "id": "c0520061-9c40-48ce-84ef-6265b5e1343f",
   "metadata": {},
   "outputs": [
    {
     "data": {
      "image/png": "[encoded data removed]",
      "text/plain": [
       "<Figure size 640x480 with 2 Axes>"
      ]
     },
     "metadata": {},
     "output_type": "display_data"
    }
   ],
   "source": [
    "labels = ['setosa', 'versicolor', 'virginica']\n",
    "sns.heatmap(cm, annot=True, fmt='d', xticklabels=labels, yticklabels=labels)\n",
    "plt.xlabel('Predictions')\n",
    "plt.ylabel('Real');"
   ]
  },
  {
   "cell_type": "code",
   "execution_count": 17,
   "id": "8d7d0ca3-5286-4963-a688-95a100133d62",
   "metadata": {},
   "outputs": [
    {
     "name": "stdout",
     "output_type": "stream",
     "text": [
      "1/1 [==============================] - 0s 212ms/step - loss: 0.1077 - accuracy: 1.0000\n"
     ]
    }
   ],
   "source": [
    "model.evaluate(X_test, y_test);"
   ]
  },
  {
   "cell_type": "code",
   "execution_count": 18,
   "id": "92cad5d2-8c80-4656-8e38-911dd441eddc",
   "metadata": {},
   "outputs": [
    {
     "name": "stdout",
     "output_type": "stream",
     "text": [
      "              precision    recall  f1-score   support\n",
      "\n",
      "           0       1.00      1.00      1.00        10\n",
      "           1       1.00      1.00      1.00        10\n",
      "           2       1.00      1.00      1.00        10\n",
      "\n",
      "    accuracy                           1.00        30\n",
      "   macro avg       1.00      1.00      1.00        30\n",
      "weighted avg       1.00      1.00      1.00        30\n",
      "\n"
     ]
    }
   ],
   "source": [
    "print(classification_report(y_test, predictions))"
   ]
  }
 ],
 "metadata": {
  "kernelspec": {
   "display_name": "Python 3 (ipykernel)",
   "language": "python",
   "name": "python3"
  },
  "language_info": {
   "codemirror_mode": {
    "name": "ipython",
    "version": 3
   },
   "file_extension": ".py",
   "mimetype": "text/x-python",
   "name": "python",
   "nbconvert_exporter": "python",
   "pygments_lexer": "ipython3",
   "version": "3.10.13"
  }
 },
 "nbformat": 4,
 "nbformat_minor": 5
}
